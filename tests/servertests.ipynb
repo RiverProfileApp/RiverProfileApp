{
 "cells": [
  {
   "cell_type": "code",
   "execution_count": 111,
   "id": "67717c8a",
   "metadata": {},
   "outputs": [],
   "source": [
    "import requests"
   ]
  },
  {
   "cell_type": "markdown",
   "id": "2732c3fa",
   "metadata": {},
   "source": [
    "### Check that server is responding and datasets are loading\n"
   ]
  },
  {
   "cell_type": "markdown",
   "id": "d946521d",
   "metadata": {},
   "source": [
    "## South america"
   ]
  },
  {
   "cell_type": "code",
   "execution_count": 136,
   "id": "14f30eda",
   "metadata": {},
   "outputs": [],
   "source": [
    "server = 'http://35.158.238.205:13211/'\n",
    "args  = 'downstream?elev=-9999&code=42&zoom=4&longitude=-75.146484375&latitude=-9.44906182688142&d8=0'"
   ]
  },
  {
   "cell_type": "code",
   "execution_count": 137,
   "id": "4d364781",
   "metadata": {},
   "outputs": [
    {
     "data": {
      "text/plain": [
       "<Response [200]>"
      ]
     },
     "execution_count": 137,
     "metadata": {},
     "output_type": "execute_result"
    }
   ],
   "source": [
    "requests.get(server + args)"
   ]
  },
  {
   "cell_type": "code",
   "execution_count": 138,
   "id": "3bdc32eb",
   "metadata": {},
   "outputs": [],
   "source": [
    "args  = 'downstream?elev=-9999&code=42&zoom=4&longitude=-75.146484375&latitude=-9.44906182688142&d8=1'"
   ]
  },
  {
   "cell_type": "code",
   "execution_count": 139,
   "id": "075fe93f",
   "metadata": {},
   "outputs": [
    {
     "data": {
      "text/plain": [
       "<Response [200]>"
      ]
     },
     "execution_count": 139,
     "metadata": {},
     "output_type": "execute_result"
    }
   ],
   "source": [
    "requests.get(server + args)"
   ]
  },
  {
   "cell_type": "markdown",
   "id": "cc4f8961",
   "metadata": {},
   "source": [
    "## North america"
   ]
  },
  {
   "cell_type": "code",
   "execution_count": 141,
   "id": "393a99bc",
   "metadata": {},
   "outputs": [],
   "source": [
    "args  = 'downstream?elev=-9999&code=126104&zoom=4&longitude=-105.908203125&latitude=28.304380682962783&d8=null'"
   ]
  },
  {
   "cell_type": "code",
   "execution_count": 143,
   "id": "0699b923",
   "metadata": {},
   "outputs": [
    {
     "data": {
      "text/plain": [
       "<Response [200]>"
      ]
     },
     "execution_count": 143,
     "metadata": {},
     "output_type": "execute_result"
    }
   ],
   "source": [
    "requests.get(server + args)"
   ]
  },
  {
   "cell_type": "code",
   "execution_count": 144,
   "id": "f066587c",
   "metadata": {},
   "outputs": [],
   "source": [
    "args  = 'downstream?elev=-9999&code=126104&zoom=4&longitude=-105.908203125&latitude=28.304380682962783&d8=1'"
   ]
  },
  {
   "cell_type": "code",
   "execution_count": 145,
   "id": "a656d33a",
   "metadata": {},
   "outputs": [
    {
     "data": {
      "text/plain": [
       "<Response [200]>"
      ]
     },
     "execution_count": 145,
     "metadata": {},
     "output_type": "execute_result"
    }
   ],
   "source": [
    "requests.get(server + args)"
   ]
  },
  {
   "cell_type": "markdown",
   "id": "fec2b326",
   "metadata": {},
   "source": [
    "## Eurasia"
   ]
  },
  {
   "cell_type": "code",
   "execution_count": 150,
   "id": "f5791aed",
   "metadata": {},
   "outputs": [],
   "source": [
    "args  = 'downstream?elev=-9999&code=5031535&zoom=4&longitude=21.62109375&latitude=48.40003249610685&d8=null'"
   ]
  },
  {
   "cell_type": "code",
   "execution_count": 151,
   "id": "d487d79f",
   "metadata": {},
   "outputs": [
    {
     "data": {
      "text/plain": [
       "<Response [200]>"
      ]
     },
     "execution_count": 151,
     "metadata": {},
     "output_type": "execute_result"
    }
   ],
   "source": [
    "requests.get(server + args)"
   ]
  },
  {
   "cell_type": "code",
   "execution_count": null,
   "id": "94b39684",
   "metadata": {},
   "outputs": [],
   "source": [
    "args  = 'downstream?elev=-9999&code=5031535&zoom=4&longitude=21.62109375&latitude=48.40003249610685&d8=1'"
   ]
  },
  {
   "cell_type": "code",
   "execution_count": 152,
   "id": "2e34ec4b",
   "metadata": {},
   "outputs": [
    {
     "data": {
      "text/plain": [
       "<Response [200]>"
      ]
     },
     "execution_count": 152,
     "metadata": {},
     "output_type": "execute_result"
    }
   ],
   "source": [
    "requests.get(server + args)"
   ]
  },
  {
   "cell_type": "code",
   "execution_count": null,
   "id": "e4e67578",
   "metadata": {},
   "outputs": [],
   "source": []
  },
  {
   "cell_type": "markdown",
   "id": "0419392d",
   "metadata": {},
   "source": [
    "## Africa"
   ]
  },
  {
   "cell_type": "code",
   "execution_count": 156,
   "id": "2877b494",
   "metadata": {},
   "outputs": [],
   "source": [
    "args  = 'downstream?elev=-9999&code=8092515&zoom=3&longitude=14.94140625&latitude=29.075375179558346&d8=null'"
   ]
  },
  {
   "cell_type": "code",
   "execution_count": 157,
   "id": "14cf0d12",
   "metadata": {},
   "outputs": [
    {
     "data": {
      "text/plain": [
       "<Response [200]>"
      ]
     },
     "execution_count": 157,
     "metadata": {},
     "output_type": "execute_result"
    }
   ],
   "source": [
    "requests.get(server + args)"
   ]
  },
  {
   "cell_type": "code",
   "execution_count": 158,
   "id": "fd0f6521",
   "metadata": {},
   "outputs": [],
   "source": [
    "args  = 'downstream?elev=-9999&code=8092515&zoom=3&longitude=14.94140625&latitude=29.075375179558346&d8=1'"
   ]
  },
  {
   "cell_type": "code",
   "execution_count": 159,
   "id": "84185dfe",
   "metadata": {},
   "outputs": [
    {
     "data": {
      "text/plain": [
       "<Response [200]>"
      ]
     },
     "execution_count": 159,
     "metadata": {},
     "output_type": "execute_result"
    }
   ],
   "source": [
    "requests.get(server + args)"
   ]
  },
  {
   "cell_type": "code",
   "execution_count": 165,
   "id": "6ac7b0af",
   "metadata": {},
   "outputs": [],
   "source": [
    "##Aus"
   ]
  },
  {
   "cell_type": "code",
   "execution_count": 161,
   "id": "3ee6738f",
   "metadata": {},
   "outputs": [],
   "source": [
    "args  = 'downstream?elev=-9999&code=4571046&zoom=3&longitude=137.4609375&latitude=-22.75592068148639&d8=null'"
   ]
  },
  {
   "cell_type": "code",
   "execution_count": 162,
   "id": "6c640754",
   "metadata": {},
   "outputs": [
    {
     "data": {
      "text/plain": [
       "<Response [200]>"
      ]
     },
     "execution_count": 162,
     "metadata": {},
     "output_type": "execute_result"
    }
   ],
   "source": [
    "requests.get(server + args)"
   ]
  },
  {
   "cell_type": "code",
   "execution_count": 163,
   "id": "d999101a",
   "metadata": {},
   "outputs": [],
   "source": [
    "args  = 'downstream?elev=-9999&code=4571046&zoom=3&longitude=137.4609375&latitude=-22.75592068148639&d8=1'"
   ]
  },
  {
   "cell_type": "code",
   "execution_count": 164,
   "id": "7d0efea4",
   "metadata": {},
   "outputs": [
    {
     "data": {
      "text/plain": [
       "<Response [200]>"
      ]
     },
     "execution_count": 164,
     "metadata": {},
     "output_type": "execute_result"
    }
   ],
   "source": [
    "requests.get(server + args)"
   ]
  },
  {
   "cell_type": "code",
   "execution_count": null,
   "id": "4604918a",
   "metadata": {},
   "outputs": [],
   "source": []
  }
 ],
 "metadata": {
  "kernelspec": {
   "display_name": "Python 3 (ipykernel)",
   "language": "python",
   "name": "python3"
  },
  "language_info": {
   "codemirror_mode": {
    "name": "ipython",
    "version": 3
   },
   "file_extension": ".py",
   "mimetype": "text/x-python",
   "name": "python",
   "nbconvert_exporter": "python",
   "pygments_lexer": "ipython3",
   "version": "3.8.2"
  }
 },
 "nbformat": 4,
 "nbformat_minor": 5
}
